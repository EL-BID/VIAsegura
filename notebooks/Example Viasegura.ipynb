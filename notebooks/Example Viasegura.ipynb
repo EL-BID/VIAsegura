{
 "cells": [
  {
   "cell_type": "code",
   "execution_count": 1,
   "id": "4e7a76b4",
   "metadata": {},
   "outputs": [],
   "source": [
    "import pandas as pd\n",
    "from viasegura import ModelLabeler\n",
    "import numpy as np\n",
    "import os\n",
    "from pathlib import Path\n",
    "import tensorflow as tf\n",
    "from tqdm.notebook import tqdm"
   ]
  },
  {
   "cell_type": "markdown",
   "id": "ada6dc29",
   "metadata": {},
   "source": [
    "### Espacio descriptivo por cada seccion\n",
    "***\n",
    "\n",
    "#### Descripcion\n",
    "Viasegura es una libreria para etiquetar algunos de los atributos de seguridad vial de la metodologia iRAP. Los atributos especificos que pueden ser etiquetados los encontramos en la libreria en la url:\n",
    "\n",
    "https://github.com/EL-BID/VIAsegura\n",
    "\n",
    "Hasta el momento hay 15 modelos desarrollados para etiquetar en total 17 atributos (dado que 2 modelos funcionan para dos atributos distintos.\n",
    "\n",
    "#### Alcance\n",
    "\n",
    "Para ejecutar el sistema y entender el alcance de aplicacion de estos modelos por favor referirse al manual ubicado en la url:\n",
    "\n",
    "https://github.com/EL-BID/VIAsegura/tree/main/viasegura/manuals\n",
    "\n",
    "En esa seccion encontraran el contexto general y particular bajo el que se puede utilizar el software"
   ]
  },
  {
   "cell_type": "markdown",
   "id": "4296cd56",
   "metadata": {},
   "source": [
    "### GPU Configuration\n",
    "***"
   ]
  },
  {
   "cell_type": "markdown",
   "id": "a1e41099",
   "metadata": {},
   "source": [
    "Como saben los modelos de IA utilizan procesamiento en paralelo y en la mayoria de los casos se requiere procesamiento utilizando una gpu. \n",
    "\n",
    "Para que el sistema funcione eficientemente, se prevee que el usuario configura la gpu de la siguiente forma con el objetivo de que los modelos cuenten con los recursos necesarios para su correcta ejecucion."
   ]
  },
  {
   "cell_type": "code",
   "execution_count": 2,
   "id": "e6d9ffa3",
   "metadata": {},
   "outputs": [
    {
     "name": "stdout",
     "output_type": "stream",
     "text": [
      "1 Physical GPU, 1 Logical GPUs\n"
     ]
    }
   ],
   "source": [
    "gpus = tf.config.experimental.list_physical_devices('GPU')\n",
    "if gpus:   \n",
    "    try:    \n",
    "        tf.config.experimental.set_virtual_device_configuration(gpus[0], \n",
    "                                                                [tf.config.experimental.VirtualDeviceConfiguration(memory_limit=4096+2048),])    \n",
    "        logical_gpus = tf.config.experimental.list_logical_devices('GPU')    \n",
    "        print(len(gpus), \"Physical GPU,\", len(logical_gpus), \"Logical GPUs\")  \n",
    "    except RuntimeError as e:\n",
    "        print(e)\n",
    "device = logical_gpus[0].name        "
   ]
  },
  {
   "cell_type": "markdown",
   "id": "2555e36a",
   "metadata": {},
   "source": [
    "### Inputs\n",
    "***"
   ]
  },
  {
   "cell_type": "markdown",
   "id": "ff5da8a6",
   "metadata": {},
   "source": [
    "El sistema funciona utilizando imagenes o videos, estos videos deben estar ordenados"
   ]
  },
  {
   "cell_type": "code",
   "execution_count": 9,
   "id": "ba209ec3",
   "metadata": {},
   "outputs": [],
   "source": [
    "master_input = 'data/Visor Datos Brasil 2015/Brasil-2015/Visor Datos Brasil 2015/IRAP/' #<Ubicacion de las imagenes a ser utilizadas>\n",
    "folders_check = ['CAM CEN']\n",
    "BATCH_SIZE = 32"
   ]
  },
  {
   "cell_type": "markdown",
   "id": "89e37878",
   "metadata": {},
   "source": [
    "### Functions\n",
    "***"
   ]
  },
  {
   "cell_type": "code",
   "execution_count": 10,
   "id": "2c803756",
   "metadata": {},
   "outputs": [],
   "source": [
    "def load_image(routes):\n",
    "    imgs = np.array([tf.image.decode_image(tf.io.read_file(str(route))).numpy() for route in routes])\n",
    "    return imgs"
   ]
  },
  {
   "cell_type": "markdown",
   "id": "3ddf51ab",
   "metadata": {},
   "source": [
    "### Load Images\n",
    "***"
   ]
  },
  {
   "cell_type": "code",
   "execution_count": 11,
   "id": "6d8e3edd",
   "metadata": {},
   "outputs": [
    {
     "data": {
      "application/vnd.jupyter.widget-view+json": {
       "model_id": "927e2ae6f47742558d3c176456d774df",
       "version_major": 2,
       "version_minor": 0
      },
      "text/plain": [
       "  0%|          | 0/178 [00:00<?, ?it/s]"
      ]
     },
     "metadata": {},
     "output_type": "display_data"
    }
   ],
   "source": [
    "folders_master = os.listdir(master_input)\n",
    "cam_lat_der_paths = []\n",
    "route_name = []\n",
    "image_name = []\n",
    "for route_1 in tqdm(folders_master):\n",
    "    folders_route_1 = [item for item in os.listdir(master_input+route_1) if len(item.split('.'))==1]\n",
    "    for route_2 in folders_route_1:\n",
    "        for fold in folders_check:\n",
    "            archives = os.listdir(master_input+route_1+'/'+route_2+'/'+fold)\n",
    "            cam_lat_der_paths += [master_input+route_1+'/'+route_2+'/'+fold+'/'+item for item in archives]\n",
    "            route_name += [route_1+route_2 for i in range(len(archives))]\n",
    "            image_name += [it.upper() for it in archives]    "
   ]
  },
  {
   "cell_type": "code",
   "execution_count": 12,
   "id": "256bc004",
   "metadata": {},
   "outputs": [],
   "source": [
    "df_paths = pd.DataFrame({\n",
    "    'image_name':image_name,\n",
    "    'route':route_name,\n",
    "    'path':cam_lat_der_paths\n",
    "})\n",
    "df_paths['number_frame'] = list(map(lambda x: (int(x.split('.')[0].split('_')[0])-1)//5, df_paths['image_name'].values))"
   ]
  },
  {
   "cell_type": "code",
   "execution_count": 13,
   "id": "71903fbe",
   "metadata": {},
   "outputs": [],
   "source": [
    "df_paths_groups = df_paths.groupby(['route','number_frame']).aggregate({\n",
    "    'image_name':'first',\n",
    "    'path':[list,'count']\n",
    "}).reset_index()\n",
    "df_paths_groups.columns = [col[0]+'_'+col[1] if col[0]=='path' else col[0] for col in df_paths_groups.columns]"
   ]
  },
  {
   "cell_type": "markdown",
   "id": "2cbe156f",
   "metadata": {},
   "source": [
    "#### Load Image example"
   ]
  },
  {
   "cell_type": "code",
   "execution_count": 22,
   "id": "325a8533",
   "metadata": {},
   "outputs": [],
   "source": [
    "group = 1\n",
    "routes = df_paths_groups.path_list.values\n",
    "images = []\n",
    "for group in routes[:5]:\n",
    "    images+= list(load_image(group))"
   ]
  },
  {
   "cell_type": "code",
   "execution_count": 27,
   "id": "1acbd80e",
   "metadata": {},
   "outputs": [],
   "source": [
    "images = np.array(images)"
   ]
  },
  {
   "cell_type": "code",
   "execution_count": 40,
   "id": "48df088f",
   "metadata": {},
   "outputs": [
    {
     "data": {
      "text/plain": [
       "(1224, 1624, 3)"
      ]
     },
     "execution_count": 40,
     "metadata": {},
     "output_type": "execute_result"
    }
   ],
   "source": [
    "images[0].shape"
   ]
  },
  {
   "cell_type": "markdown",
   "id": "910def3e",
   "metadata": {},
   "source": [
    "### Create labeler \n",
    "***"
   ]
  },
  {
   "cell_type": "markdown",
   "id": "be961cdd",
   "metadata": {},
   "source": [
    "Frontal Filters = ['delineation', 'street_lighting', 'carriageway', 'service_road', 'road_condition', 'skid_resistance', 'upgrade_cost', 'speed_management', 'bicycle_facility', 'quality_of_curve', 'vehicle_parking', 'property_access_points']"
   ]
  },
  {
   "cell_type": "code",
   "execution_count": 8,
   "id": "f533ae16",
   "metadata": {
    "scrolled": true
   },
   "outputs": [
    {
     "name": "stdout",
     "output_type": "stream",
     "text": [
      "Configuration Loaded\n",
      "Loaded model \"delineation\"\n",
      "Loaded model \"carriageway\"\n",
      "Loaded model \"street_lighting\"\n",
      "You have succesfully load 3 models on the category \"frontal\"\n"
     ]
    }
   ],
   "source": [
    "labeler = ModelLabeler(model_type = 'frontal',device = device, model_filter = ['delineation','street_lighting','carriageway'])"
   ]
  },
  {
   "cell_type": "code",
   "execution_count": 42,
   "id": "22b87c3a",
   "metadata": {},
   "outputs": [
    {
     "data": {
      "text/plain": [
       "{'downloader': <viasegura.downloader.Downloader at 0x249068c2e80>,\n",
       " 'model_filter': ['delineation', 'street_lighting', 'carriageway'],\n",
       " 'system_path': WindowsPath('C:/Users/Jose_Marquez/.conda/envs/via_seg/lib/site-packages/viasegura'),\n",
       " 'config_path': WindowsPath('C:/Users/Jose_Marquez/.conda/envs/via_seg/lib/site-packages/viasegura/config.json'),\n",
       " 'model_type': 'frontal',\n",
       " 'device': '/device:GPU:0',\n",
       " 'verbose': 0,\n",
       " 'models_route': WindowsPath('models/models_artifacts'),\n",
       " 'models': ['delineation', 'carriageway', 'street_lighting'],\n",
       " 'classes': {'delineation': {0: 'Adequate', 1: 'Poor'},\n",
       "  'carriageway': {0: 'Undivided road', 1: 'Carriageway of a divided road'},\n",
       "  'street_lighting': {0: 'Not present', 1: 'Present'}},\n",
       " 'thresholds': {'delineation': None,\n",
       "  'carriageway': None,\n",
       "  'street_lighting': None},\n",
       " 'model_class': {'delineation': 'softmax',\n",
       "  'carriageway': 'softmax',\n",
       "  'street_lighting': 'softmax'},\n",
       " 'model': <keras.engine.functional.Functional at 0x2490a8f2320>}"
      ]
     },
     "execution_count": 42,
     "metadata": {},
     "output_type": "execute_result"
    }
   ],
   "source": [
    "labeler.__dict__"
   ]
  },
  {
   "cell_type": "markdown",
   "id": "ea9e00bd",
   "metadata": {},
   "source": [
    "### Processing\n",
    "***"
   ]
  },
  {
   "cell_type": "code",
   "execution_count": 51,
   "id": "56701604",
   "metadata": {},
   "outputs": [
    {
     "name": "stderr",
     "output_type": "stream",
     "text": [
      "100%|████████████████████████████████████████████| 3/3 [00:01<00:00,  2.55it/s]\n"
     ]
    }
   ],
   "source": [
    "results = labeler.get_labels(images)"
   ]
  },
  {
   "cell_type": "markdown",
   "id": "c6bd3f16",
   "metadata": {},
   "source": [
    "### Resultados\n",
    "***"
   ]
  },
  {
   "cell_type": "code",
   "execution_count": 52,
   "id": "e24f0f51",
   "metadata": {},
   "outputs": [
    {
     "data": {
      "text/plain": [
       "{'raw_predictions': {'delineation': array([[9.9913591e-01, 8.6407369e-04],\n",
       "         [9.9995983e-01, 4.0145114e-05],\n",
       "         [9.9996364e-01, 3.6416670e-05],\n",
       "         [9.9713433e-01, 2.8656323e-03],\n",
       "         [9.5558089e-01, 4.4419128e-02],\n",
       "         [3.2194006e-01, 6.7805994e-01]], dtype=float32),\n",
       "  'carriageway': array([[3.2518181e-04, 9.9967480e-01],\n",
       "         [3.9423915e-04, 9.9960583e-01],\n",
       "         [8.5993286e-04, 9.9914002e-01],\n",
       "         [7.7646822e-03, 9.9223524e-01],\n",
       "         [1.0266295e-02, 9.8973376e-01],\n",
       "         [1.8241487e-01, 8.1758511e-01]], dtype=float32),\n",
       "  'street_lighting': array([[1.7641375e-02, 9.8235863e-01],\n",
       "         [7.1303762e-04, 9.9928695e-01],\n",
       "         [1.4509552e-02, 9.8549044e-01],\n",
       "         [1.8323507e-02, 9.8167646e-01],\n",
       "         [1.1323477e-02, 9.8867655e-01],\n",
       "         [7.0182723e-01, 2.9817280e-01]], dtype=float32)},\n",
       " 'numeric_class': {'delineation': array([0, 0, 0, 0, 0, 1], dtype=int64),\n",
       "  'carriageway': array([1, 1, 1, 1, 1, 1], dtype=int64),\n",
       "  'street_lighting': array([1, 1, 1, 1, 1, 0], dtype=int64)},\n",
       " 'clasification': {'delineation': ['Adequate',\n",
       "   'Adequate',\n",
       "   'Adequate',\n",
       "   'Adequate',\n",
       "   'Adequate',\n",
       "   'Poor'],\n",
       "  'carriageway': ['Carriageway of a divided road',\n",
       "   'Carriageway of a divided road',\n",
       "   'Carriageway of a divided road',\n",
       "   'Carriageway of a divided road',\n",
       "   'Carriageway of a divided road',\n",
       "   'Carriageway of a divided road'],\n",
       "  'street_lighting': ['Present',\n",
       "   'Present',\n",
       "   'Present',\n",
       "   'Present',\n",
       "   'Present',\n",
       "   'Not present']}}"
      ]
     },
     "execution_count": 52,
     "metadata": {},
     "output_type": "execute_result"
    }
   ],
   "source": [
    "results"
   ]
  },
  {
   "cell_type": "code",
   "execution_count": 31,
   "id": "261325ef",
   "metadata": {},
   "outputs": [],
   "source": [
    "clasification = results['clasification']\n",
    "numeric_class = results['numeric_class']\n",
    "raw_predictions = results['raw_predictions']"
   ]
  }
 ],
 "metadata": {
  "kernelspec": {
   "display_name": "Python 3 (ipykernel)",
   "language": "python",
   "name": "python3"
  },
  "language_info": {
   "codemirror_mode": {
    "name": "ipython",
    "version": 3
   },
   "file_extension": ".py",
   "mimetype": "text/x-python",
   "name": "python",
   "nbconvert_exporter": "python",
   "pygments_lexer": "ipython3",
   "version": "3.7.0"
  }
 },
 "nbformat": 4,
 "nbformat_minor": 5
}
